{
 "cells": [
  {
   "cell_type": "code",
   "execution_count": null,
   "id": "4c324f7e-e1e7-4df0-a9c0-2cafd46dacdd",
   "metadata": {
    "comment": [
     "welp",
     "xx",
     "this is a reply"
    ],
    "tags": []
   },
   "outputs": [],
   "source": [
    "import os"
   ]
  },
  {
   "cell_type": "code",
   "execution_count": null,
   "id": "a745f8fd-1055-4ac0-9548-1d765cccae43",
   "metadata": {
    "comment": [
     "hello!",
     "wow!",
     "new comment"
    ],
    "tags": []
   },
   "outputs": [],
   "source": []
  },
  {
   "cell_type": "code",
   "execution_count": null,
   "id": "c33796eb-db19-45f5-8647-893810d0853b",
   "metadata": {
    "comment": [
     "add comment",
     "reply"
    ],
    "tags": []
   },
   "outputs": [],
   "source": []
  },
  {
   "cell_type": "code",
   "execution_count": null,
   "id": "1d66fa1a-af7e-482b-9fd1-7fe050b5343b",
   "metadata": {
    "comment": [
     "xx",
     "new comment"
    ],
    "tags": []
   },
   "outputs": [],
   "source": []
  }
 ],
 "metadata": {
  "kernelspec": {
   "display_name": "Python 3",
   "language": "python",
   "name": "python3"
  },
  "language_info": {
   "codemirror_mode": {
    "name": "ipython",
    "version": 3
   },
   "file_extension": ".py",
   "mimetype": "text/x-python",
   "name": "python",
   "nbconvert_exporter": "python",
   "pygments_lexer": "ipython3",
   "version": "3.9.4"
  }
 },
 "nbformat": 4,
 "nbformat_minor": 5
}
