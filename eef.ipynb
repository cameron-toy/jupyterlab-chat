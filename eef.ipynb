{
 "cells": [
  {
   "cell_type": "code",
   "execution_count": null,
   "id": "d5c4bfe9-3098-47f2-a6e9-f955b5a7950c",
   "metadata": {},
   "outputs": [],
   "source": [
    "adabra cadabra adabra cadabra"
   ]
  },
  {
   "cell_type": "code",
   "execution_count": null,
   "id": "52a5b374-6709-46bf-b369-b4715a69d970",
   "metadata": {},
   "outputs": [],
   "source": [
    "new cell"
   ]
  }
 ],
 "metadata": {
  "kernelspec": {
   "display_name": "Python 3",
   "language": "python",
   "name": "python3"
  },
  "language_info": {
   "codemirror_mode": {
    "name": "ipython",
    "version": 3
   },
   "file_extension": ".py",
   "mimetype": "text/x-python",
   "name": "python",
   "nbconvert_exporter": "python",
   "pygments_lexer": "ipython3",
   "version": "3.9.4"
  }
 },
 "nbformat": 4,
 "nbformat_minor": 5
}
