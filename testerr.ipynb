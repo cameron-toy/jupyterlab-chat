{
 "cells": [
  {
   "cell_type": "code",
   "execution_count": null,
   "id": "c5f5d403-285b-4c5f-a263-75bac52b111a",
   "metadata": {
    "comments": [
     {
      "id": "08102ff0-282a-48a7-b520-66562a105388",
      "identity": {
       "color": "#17AB30",
       "id": 1290768007,
       "name": "Anonymous Callisto"
      },
      "replies": [
       {
        "id": "510e0a28-e2b9-454b-b03f-1a24b17b385d",
        "identity": {
         "color": "#ee6352",
         "id": 512281560,
         "name": "Anonymous Ganymede"
        },
        "replies": [],
        "text": "asdf",
        "time": "12:41 PM Jul 19",
        "type": "cell"
       }
      ],
      "text": "adsf",
      "time": "4:32 PM Jul 15",
      "type": "cell"
     },
     {
      "id": "a40f4491-feb4-4727-8043-c09721faa84a",
      "identity": {
       "color": "#17AB30",
       "id": 1290768007,
       "name": "Anonymous Callisto"
      },
      "replies": [],
      "text": "sdf",
      "time": "4:32 PM Jul 15",
      "type": "cell"
     },
     {
      "id": "f9d8c429-7eeb-4f6a-923f-6ac6093fb6d0",
      "identity": {
       "color": "#17AB30",
       "id": 1891031657,
       "name": "Anonymous Ganymede"
      },
      "replies": [],
      "text": "jlkj",
      "time": "2:35 PM Jul 16",
      "type": "cell"
     },
     {
      "id": "ced716ea-a3d2-449e-a2a7-c1d0480b38b8",
      "identity": {
       "color": "#17AB30",
       "id": 1891031657,
       "name": "Anonymous Ganymede"
      },
      "replies": [],
      "text": "jlk",
      "time": "2:35 PM Jul 16",
      "type": "cell"
     }
    ],
    "tags": []
   },
   "outputs": [],
   "source": [
    "jkkk"
   ]
  }
 ],
 "metadata": {
  "kernelspec": {
   "display_name": "Python 3",
   "language": "python",
   "name": "python3"
  },
  "language_info": {
   "codemirror_mode": {
    "name": "ipython",
    "version": 3
   },
   "file_extension": ".py",
   "mimetype": "text/x-python",
   "name": "python",
   "nbconvert_exporter": "python",
   "pygments_lexer": "ipython3",
   "version": "3.9.4"
  }
 },
 "nbformat": 4,
 "nbformat_minor": 5
}
