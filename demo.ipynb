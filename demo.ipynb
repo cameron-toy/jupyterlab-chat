{
 "cells": [
  {
   "cell_type": "code",
   "execution_count": null,
   "metadata": {
    "comments": [
     {
      "id": "8f0f82da-be88-4684-a899-7c9f73f355e7",
      "identity": {
       "color": "#ee6352",
       "id": 4016822587,
       "name": "Anonymous Kale"
      },
      "replies": [
       {
        "id": "63e4176e-5561-4209-96c6-ca80b0bfea51",
        "identity": {
         "color": "#00A1B3",
         "id": 1855687326,
         "name": "Anonymous Europa"
        },
        "replies": [],
        "text": "_reply_\n",
        "time": "5:53 PM Jul 19",
        "type": "cell"
       }
      ],
      "text": "***markdown***\n# markdown\n",
      "time": "5:52 PM Jul 19",
      "type": "cell"
     },
     {
      "id": "17e726d1-09b9-4b94-b9a0-57af32409c5c",
      "identity": {
       "color": "#ee6352",
       "id": 4016822587,
       "name": "Anonymous Kale"
      },
      "replies": [
       {
        "id": "0fab3415-be37-4cf5-87a2-b94759bbdaeb",
        "identity": {
         "color": "#A79011",
         "id": 235108482,
         "name": "Anonymous Elara"
        },
        "replies": [],
        "text": "```python\nfor i in range(4):\n    print(i)\n```\n",
        "time": "5:53 PM Jul 19",
        "type": "cell"
       }
      ],
      "text": "abadaba\nbaba\n\n",
      "time": "4:58 PM Jul 19",
      "type": "cell"
     },
     {
      "id": "a010e62d-2c58-4264-a024-e1770aeca88c",
      "identity": {
       "color": "#A79011",
       "id": 235108482,
       "name": "Anonymous Elara"
      },
      "replies": [],
      "text": "$$\\frac{\\Pi}{3} = 1$$\n# $$\\frac{c}{d}$$\n",
      "time": "5:53 PM Jul 19",
      "type": "cell"
     }
    ],
    "tags": []
   },
   "outputs": [
    {
     "name": "stdout",
     "output_type": "stream",
     "text": [
      "hello this refers to a cell comment\n"
     ]
    }
   ],
   "source": [
    "print(\"hello this refers to a cell comment\")"
   ]
  },
  {
   "cell_type": "code",
   "execution_count": 1,
   "metadata": {
    "comments": [
     {
      "id": "8f69eebb-99a9-4174-b5de-dffdb72cc471",
      "identity": {
       "color": "#A79011",
       "id": 3139676823,
       "name": "Anonymous Hermippe"
      },
      "replies": [],
      "text": "cell-based comment\n\nmarkdown tes\nmark\n\n",
      "time": "12:37 PM Jul 19",
      "type": "cell"
     }
    ],
    "tags": []
   },
   "outputs": [],
   "source": [
    "# If you wanted to you could make a selection based comment like this"
   ]
  },
  {
   "cell_type": "markdown",
   "metadata": {
    "comments": [],
    "tags": []
   },
   "source": [
    "# The selection range is flexible and allows for multi-line support \n",
    "$$\\frac{a}{b}$$"
   ]
  },
  {
   "cell_type": "markdown",
   "metadata": {},
   "source": [
    "```python\n",
    "for i in range(4):\n",
    "    print(i)\n",
    "```"
   ]
  },
  {
   "cell_type": "code",
   "execution_count": null,
   "metadata": {
    "comments": [],
    "tags": []
   },
   "outputs": [],
   "source": [
    "# You can also delete comments also "
   ]
  },
  {
   "cell_type": "code",
   "execution_count": null,
   "metadata": {
    "comments": [
     {
      "end": {
       "column": 4,
       "line": 0
      },
      "id": "0b4a2062-885d-440b-8923-c17216511e12",
      "identity": {
       "color": "#4BA749",
       "id": 1441620102,
       "name": "Anonymous Adrastea"
      },
      "replies": [
       {
        "id": "e0805adb-71d3-4c63-800b-abe0bf975594",
        "identity": {
         "color": "#609DA9",
         "id": 2316646555,
         "name": "Anonymous Himalia"
        },
        "replies": [],
        "text": "I think its 20?\n",
        "time": "10:56 AM Jul 19",
        "type": "cell"
       }
      ],
      "start": {
       "column": 6,
       "line": 0
      },
      "text": "Maybe this should be 5? \nI take that back...\n",
      "time": "12:05 PM Jul 14",
      "type": "text"
     }
    ],
    "tags": []
   },
   "outputs": [],
   "source": [
    "i = 10\n",
    "j = 5"
   ]
  },
  {
   "cell_type": "code",
   "execution_count": null,
   "metadata": {},
   "outputs": [],
   "source": []
  }
 ],
 "metadata": {
  "kernelspec": {
   "display_name": "Python 3",
   "language": "python",
   "name": "python3"
  },
  "language_info": {
   "codemirror_mode": {
    "name": "ipython",
    "version": 3
   },
   "file_extension": ".py",
   "mimetype": "text/x-python",
   "name": "python",
   "nbconvert_exporter": "python",
   "pygments_lexer": "ipython3",
   "version": "3.9.4"
  }
 },
 "nbformat": 4,
 "nbformat_minor": 4
}
