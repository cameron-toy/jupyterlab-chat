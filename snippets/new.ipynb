{
 "cells": [
  {
   "cell_type": "code",
   "execution_count": null,
   "id": "1fcf3ce7-5f53-4d10-979c-d4db4e877145",
   "metadata": {
    "comments": [
     {
      "author": "Bob",
      "id": "bb1e3c7c-79da-40c4-85df-14b4af133619",
      "replies": [
       {
        "author": "Alice",
        "id": "e46def6a-0fc0-42da-8861-6148e2fa2baf",
        "replies": [],
        "text": "reply",
        "type": "cell"
       },
       {
        "author": "Alice",
        "id": "231f082c-e9a6-44d6-9662-5376cc756652",
        "replies": [],
        "text": "reply 2",
        "type": "cell"
       }
      ],
      "text": "new comment",
      "type": "cell"
     }
    ],
    "tags": []
   },
   "outputs": [],
   "source": []
  },
  {
   "cell_type": "code",
   "execution_count": null,
   "id": "10273489-f7e8-4c38-8e17-2c8b349a3375",
   "metadata": {
    "comments": [],
    "tags": []
   },
   "outputs": [],
   "source": []
  }
 ],
 "metadata": {
  "kernelspec": {
   "display_name": "Python 3",
   "language": "python",
   "name": "python3"
  },
  "language_info": {
   "codemirror_mode": {
    "name": "ipython",
    "version": 3
   },
   "file_extension": ".py",
   "mimetype": "text/x-python",
   "name": "python",
   "nbconvert_exporter": "python",
   "pygments_lexer": "ipython3",
   "version": "3.9.4"
  }
 },
 "nbformat": 4,
 "nbformat_minor": 5
}
