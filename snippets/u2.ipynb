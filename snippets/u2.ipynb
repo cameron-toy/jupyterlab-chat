{
 "cells": [
  {
   "cell_type": "code",
   "execution_count": null,
   "id": "6d4de166-1d9c-43eb-a0ad-59158742851e",
   "metadata": {
    "comments": [
     {
      "id": "42b79697-a131-4486-a713-1ff0fab53f07",
      "identity": {
       "color": "#CC8500",
       "id": 4065184459,
       "name": "Anonymous Aoede"
      },
      "replies": [],
      "text": "new 2",
      "time": "9:49 AM Jul 9",
      "type": "cell"
     },
     {
      "id": "5a3170a0-80a5-4575-8182-0698186a0003",
      "identity": {
       "color": "#00A1B3",
       "id": 2109140757,
       "name": "Anonymous Eirene"
      },
      "replies": [],
      "text": "new 3",
      "time": "9:51 AM Jul 9",
      "type": "cell"
     },
     {
      "id": "d6e2a57d-450d-4235-b767-cf6afa6f81d7",
      "identity": {
       "color": "#00A1B3",
       "id": 2109140757,
       "name": "Anonymous Eirene"
      },
      "replies": [],
      "text": "new r",
      "time": "9:51 AM Jul 9",
      "type": "cell"
     },
     {
      "id": "03101fbf-8b73-47fd-a854-1ab6d592c969",
      "identity": {
       "color": "#00A1B3",
       "id": 2109140757,
       "name": "Anonymous Eirene"
      },
      "replies": [],
      "selection": {
       "content": "stuff in the ",
       "end": {
        "column": 13,
        "line": 0
       },
       "start": {
        "column": 0,
        "line": 0
       }
      },
      "text": "huh",
      "time": "9:51 AM Jul 9",
      "type": "text"
     },
     {
      "id": "efc5f23f-a077-449e-94fe-6b83cc8d06d2",
      "identity": {
       "color": "#00A1B3",
       "id": 2109140757,
       "name": "Anonymous Eirene"
      },
      "replies": [],
      "text": "huh 2",
      "time": "9:51 AM Jul 9",
      "type": "cell"
     }
    ],
    "tags": []
   },
   "outputs": [],
   "source": [
    "stuff in the cell"
   ]
  },
  {
   "cell_type": "code",
   "execution_count": null,
   "id": "649cc2da-d3ac-4641-b8c7-03b68367e4d5",
   "metadata": {
    "comments": [
     {
      "id": "a3aec011-86c5-453b-a0ed-0795d6d8acdc",
      "identity": {
       "color": "#17AB30",
       "id": 3518883116,
       "name": "Anonymous Harpalyke"
      },
      "replies": [],
      "selection": {
       "content": " set of comments to a",
       "end": {
        "column": 3,
        "line": 0
       },
       "start": {
        "column": 24,
        "line": 0
       }
      },
      "text": "another one",
      "time": "10:01 AM Jul 9",
      "type": "text"
     },
     {
      "id": "8256c9fd-908d-4478-bea2-bfc3837eedee",
      "identity": {
       "color": "#17AB30",
       "id": 3518883116,
       "name": "Anonymous Harpalyke"
      },
      "replies": [],
      "text": "why?",
      "time": "10:01 AM Jul 9",
      "type": "cell"
     }
    ],
    "tags": []
   },
   "outputs": [],
   "source": [
    "new set of comments to add"
   ]
  },
  {
   "cell_type": "code",
   "execution_count": null,
   "id": "a555f5fe-8f45-439f-8fe9-16a940e97a1a",
   "metadata": {
    "comments": [
     {
      "id": "0095087c-114a-4741-b774-f8bb3e37cc10",
      "identity": {
       "color": "#A79011",
       "id": 1235138864,
       "name": "Anonymous Carpo"
      },
      "replies": [],
      "selection": {
       "content": "e stuff\nthat is multi-",
       "end": {
        "column": 8,
        "line": 0
       },
       "start": {
        "column": 14,
        "line": 1
       }
      },
      "text": "newnew",
      "time": "10:15 AM Jul 9",
      "type": "text"
     }
    ],
    "tags": []
   },
   "outputs": [],
   "source": [
    "some code stuff\n",
    "that is multi-line"
   ]
  }
 ],
 "metadata": {
  "kernelspec": {
   "display_name": "Python 3",
   "language": "python",
   "name": "python3"
  },
  "language_info": {
   "codemirror_mode": {
    "name": "ipython",
    "version": 3
   },
   "file_extension": ".py",
   "mimetype": "text/x-python",
   "name": "python",
   "nbconvert_exporter": "python",
   "pygments_lexer": "ipython3",
   "version": "3.9.4"
  }
 },
 "nbformat": 4,
 "nbformat_minor": 5
}
