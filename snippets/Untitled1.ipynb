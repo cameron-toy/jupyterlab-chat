{
 "cells": [
  {
   "cell_type": "code",
   "execution_count": null,
   "id": "bb4a9537-d36d-453b-873a-ae8408376935",
   "metadata": {
    "comments": [
     {
      "id": "44c731c3-7a8b-49c9-ab99-a082dda6e1ea",
      "identity": {
       "color": "#CC8500",
       "id": 2671156348,
       "name": "Anonymous Orthosie"
      },
      "replies": [],
      "selection": {
       "endchar": 12,
       "endline": 1,
       "startchar": 1,
       "startline": 1
      },
      "text": "> [mport noom ]\n fffff",
      "time": "5:16 PM Jul 8",
      "type": "text"
     },
     {
      "id": "89f04582-9851-42c5-bd55-dcaf3979cdd5",
      "identity": {
       "color": "#CC8500",
       "id": 2671156348,
       "name": "Anonymous Orthosie"
      },
      "replies": [],
      "selection": {
       "endchar": 16,
       "endline": 2,
       "startchar": 5,
       "startline": 2
      },
      "text": "> [gic goes bo]\n cccccc",
      "time": "5:16 PM Jul 8",
      "type": "text"
     },
     {
      "id": "59de289f-e9ea-4864-a665-4a73189f03a6",
      "identity": {
       "color": "#4BA749",
       "id": 3458259445,
       "name": "Anonymous Kalyke"
      },
      "replies": [],
      "selection": {
       "endchar": 16,
       "endline": 0,
       "startchar": 5,
       "startline": 0
      },
      "text": "> [t numpy as ]\n new set",
      "time": "5:18 PM Jul 8",
      "type": "text"
     }
    ],
    "tags": []
   },
   "outputs": [],
   "source": [
    "import numpy as np\n",
    "import noom as zoom\n",
    "np magic goes boom"
   ]
  }
 ],
 "metadata": {
  "kernelspec": {
   "display_name": "Python 3",
   "language": "python",
   "name": "python3"
  },
  "language_info": {
   "codemirror_mode": {
    "name": "ipython",
    "version": 3
   },
   "file_extension": ".py",
   "mimetype": "text/x-python",
   "name": "python",
   "nbconvert_exporter": "python",
   "pygments_lexer": "ipython3",
   "version": "3.9.4"
  }
 },
 "nbformat": 4,
 "nbformat_minor": 5
}
