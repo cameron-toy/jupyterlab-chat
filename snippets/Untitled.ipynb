{
 "cells": [
  {
   "cell_type": "code",
   "execution_count": null,
   "id": "935bca05-c570-4373-b9c5-a6f9696ec73b",
   "metadata": {
    "comments": [
     {
      "id": "964b277c-f70a-4d0b-84a9-ff4d934eedb2",
      "identity": {
       "color": "#609DA9",
       "id": 740754297,
       "name": "Anonymous Metis"
      },
      "replies": [],
      "text": "> [_pi as not_r]\n p",
      "time": "7/6/2021, 2:39:52 PM",
      "type": "text"
     },
     {
      "id": "9f5cfcfb-a8c5-405d-a69e-57e1ee6db347",
      "identity": {
       "color": "#609DA9",
       "id": 740754297,
       "name": "Anonymous Metis"
      },
      "replies": [],
      "text": "> [from os ]\n ff",
      "time": "7/6/2021, 2:40:51 PM",
      "type": "text"
     },
     {
      "id": "717a9908-8da9-47a8-ae48-8d38293b3029",
      "identity": {
       "color": "#00A1B3",
       "id": 4280327963,
       "name": "Anonymous Harpalyke"
      },
      "replies": [],
      "text": "> [a]\n l",
      "time": "7/6/2021, 3:48:29 PM",
      "type": "text"
     },
     {
      "id": "b62036f1-de4a-45c9-a9db-a3590f17fff8",
      "identity": {
       "color": "#17AB30",
       "id": 1755751860,
       "name": "Anonymous Pasithee"
      },
      "replies": [],
      "text": "> [py_pi as not_re]\n l",
      "time": "7/7/2021, 11:03:43 AM",
      "type": "text"
     },
     {
      "id": "2a9667e9-3124-4978-bd28-671996f08baf",
      "identity": {
       "color": "#ee6352",
       "id": 93793610,
       "name": "Anonymous Harpalyke"
      },
      "replies": [],
      "text": "> [port num]\n f",
      "time": "7/7/2021, 12:03:01 PM",
      "type": "text"
     }
    ],
    "tags": []
   },
   "outputs": [],
   "source": [
    "import numpy\n",
    "import py_pi as not_real\n",
    "from os import os_spec"
   ]
  }
 ],
 "metadata": {
  "kernelspec": {
   "display_name": "Python 3",
   "language": "python",
   "name": "python3"
  },
  "language_info": {
   "codemirror_mode": {
    "name": "ipython",
    "version": 3
   },
   "file_extension": ".py",
   "mimetype": "text/x-python",
   "name": "python",
   "nbconvert_exporter": "python",
   "pygments_lexer": "ipython3",
   "version": "3.9.4"
  }
 },
 "nbformat": 4,
 "nbformat_minor": 5
}
