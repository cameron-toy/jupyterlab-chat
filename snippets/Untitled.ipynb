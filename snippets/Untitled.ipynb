{
 "cells": [
  {
   "cell_type": "code",
   "execution_count": null,
   "id": "935bca05-c570-4373-b9c5-a6f9696ec73b",
   "metadata": {
    "comments": [
     {
      "id": "05d775ff-258b-42d6-b077-c691e804d4e7",
      "identity": {
       "color": "",
       "id": 0,
       "name": ""
      },
      "replies": [],
      "text": "> [m]\n k",
      "time": "7/6/2021, 12:24:34 PM",
      "type": "text"
     },
     {
      "id": "f8b9189a-6c1a-4c96-bd54-95b892b91534",
      "identity": {
       "color": "",
       "id": 0,
       "name": ""
      },
      "replies": [],
      "text": "> [m]\n k",
      "time": "7/6/2021, 12:24:41 PM",
      "type": "text"
     },
     {
      "id": "d4bd2f4a-0a17-4d4b-9068-0805ad130b54",
      "identity": {
       "color": "",
       "id": 0,
       "name": ""
      },
      "replies": [],
      "text": "> [m]\n kk",
      "time": "7/6/2021, 12:26:15 PM",
      "type": "text"
     }
    ],
    "tags": []
   },
   "outputs": [],
   "source": [
    "import numpy\n",
    "import py_pi as not_real\n",
    "from os import os_spec"
   ]
  }
 ],
 "metadata": {
  "kernelspec": {
   "display_name": "Python 3",
   "language": "python",
   "name": "python3"
  },
  "language_info": {
   "codemirror_mode": {
    "name": "ipython",
    "version": 3
   },
   "file_extension": ".py",
   "mimetype": "text/x-python",
   "name": "python",
   "nbconvert_exporter": "python",
   "pygments_lexer": "ipython3",
   "version": "3.9.4"
  }
 },
 "nbformat": 4,
 "nbformat_minor": 5
}
